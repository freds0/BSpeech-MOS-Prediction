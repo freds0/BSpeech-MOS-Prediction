{
 "cells": [
  {
   "cell_type": "code",
   "execution_count": 1,
   "id": "024f0812",
   "metadata": {},
   "outputs": [],
   "source": [
    "import torch, torchaudio"
   ]
  },
  {
   "cell_type": "code",
   "execution_count": 2,
   "id": "38d2af31",
   "metadata": {},
   "outputs": [
    {
     "name": "stdout",
     "output_type": "stream",
     "text": [
      "cuda\n",
      "True\n"
     ]
    }
   ],
   "source": [
    "device = torch.device('cuda' if torch.cuda.is_available() else 'cpu')\n",
    "cuda = torch.cuda.is_available()\n",
    "\n",
    "print(device)\n",
    "print(cuda)"
   ]
  },
  {
   "cell_type": "markdown",
   "id": "e624f27c",
   "metadata": {},
   "source": [
    "# Extract Embeddings"
   ]
  },
  {
   "cell_type": "code",
   "execution_count": 3,
   "id": "b8abc5b8",
   "metadata": {},
   "outputs": [],
   "source": [
    "import torch, torchaudio"
   ]
  },
  {
   "cell_type": "code",
   "execution_count": 4,
   "id": "2a4b1d80",
   "metadata": {},
   "outputs": [],
   "source": [
    "device = torch.device('cuda' if torch.cuda.is_available() else 'cpu')\n",
    "cuda = torch.cuda.is_available()\n"
   ]
  },
  {
   "cell_type": "code",
   "execution_count": 5,
   "id": "b2343010",
   "metadata": {},
   "outputs": [
    {
     "name": "stderr",
     "output_type": "stream",
     "text": [
      "Some weights of the model checkpoint at facebook/hubert-large-ls960-ft were not used when initializing HubertModel: ['lm_head.weight', 'lm_head.bias']\n",
      "- This IS expected if you are initializing HubertModel from the checkpoint of a model trained on another task or with another architecture (e.g. initializing a BertForSequenceClassification model from a BertForPreTraining model).\n",
      "- This IS NOT expected if you are initializing HubertModel from the checkpoint of a model that you expect to be exactly identical (initializing a BertForSequenceClassification model from a BertForSequenceClassification model).\n"
     ]
    }
   ],
   "source": [
    "from transformers import Wav2Vec2Processor, HubertModel\n",
    "\n",
    "model = HubertModel.from_pretrained(\"facebook/hubert-large-ls960-ft\").feature_extractor\n",
    "processor = Wav2Vec2Processor.from_pretrained(\"facebook/hubert-large-ls960-ft\")"
   ]
  },
  {
   "cell_type": "code",
   "execution_count": 6,
   "id": "ea26e0ec",
   "metadata": {},
   "outputs": [],
   "source": [
    "filepath = \"/home/fred/Projetos/DATASETS/MOS/BRSPEECH_MOS_DATASET/data/ground_truth/dataset_oficial_copel-0592.wav\"\n",
    "\n",
    "audio_data, sr = torchaudio.load(filepath)"
   ]
  },
  {
   "cell_type": "code",
   "execution_count": 7,
   "id": "362feea3",
   "metadata": {},
   "outputs": [],
   "source": [
    "output = model(audio_data)"
   ]
  },
  {
   "cell_type": "code",
   "execution_count": 8,
   "id": "166b40cf",
   "metadata": {},
   "outputs": [
    {
     "data": {
      "text/plain": [
       "torch.Size([1, 512, 392])"
      ]
     },
     "execution_count": 8,
     "metadata": {},
     "output_type": "execute_result"
    }
   ],
   "source": [
    "output.shape"
   ]
  },
  {
   "cell_type": "code",
   "execution_count": 9,
   "id": "8ebcf46c",
   "metadata": {},
   "outputs": [
    {
     "name": "stderr",
     "output_type": "stream",
     "text": [
      "100%|█████████████████████████████████████| 20580/20580 [22:06<00:00, 15.52it/s]\n"
     ]
    }
   ],
   "source": [
    "from tqdm import tqdm\n",
    "import os\n",
    "\n",
    "metadata_filepath = '/home/fred/Projetos/DATASETS/MOS/VCC2018_MOS_preprocessed/mos_list.txt'\n",
    "wavs_filepath = '/home/fred/Projetos/DATASETS/MOS/VCC2018_MOS_preprocessed/wav'\n",
    "with open(metadata_filepath, encoding=\"utf-8\") as f:\n",
    "  content_file = f.readlines()\n",
    "\n",
    "output_dir = \"./VCC2018_hubert-large-ls960-ft_embeddings\"\n",
    "os.makedirs(output_dir, exist_ok=True)\n",
    "\n",
    "for line in tqdm(content_file):\n",
    "    #filepath, mos, condition, database = line.split(',')\n",
    "    filepath, mos = line.split(',')\n",
    "    filename = os.path.basename(filepath)\n",
    "    filepath = os.path.join(wavs_filepath, filepath)\n",
    "    if not os.path.exists(filepath):\n",
    "      continue\n",
    "    audio_data, sr = torchaudio.load(filepath)\n",
    "    audio_data = audio_data.to(device).squeeze()\n",
    "\n",
    "    audio_data = processor(audio_data, return_tensors=\"pt\", padding=True, sampling_rate=16000).input_values\n",
    "\n",
    "    # Extract Embedding    \n",
    "    file_embedding = model(audio_data)#['last_hidden_state']\n",
    "    \n",
    "    # Saving embedding\n",
    "    output_filename = filename.split(\".\")[0] + \".pt\"\n",
    "    output_filepath = os.path.join(output_dir, output_filename)\n",
    "\n",
    "    torch.save(file_embedding, output_filepath)  "
   ]
  },
  {
   "cell_type": "code",
   "execution_count": 14,
   "id": "b1cfdfe9",
   "metadata": {},
   "outputs": [],
   "source": [
    "model = model.to(device)"
   ]
  },
  {
   "cell_type": "markdown",
   "id": "d99c0c43",
   "metadata": {},
   "source": [
    "# Extract Embeddings from BRSpeech"
   ]
  },
  {
   "cell_type": "code",
   "execution_count": 16,
   "id": "f979a0ba",
   "metadata": {},
   "outputs": [
    {
     "name": "stderr",
     "output_type": "stream",
     "text": [
      "100%|███████████████████████████████████████| 2428/2428 [06:23<00:00,  6.33it/s]\n"
     ]
    }
   ],
   "source": [
    "metadata_filepath = '/home/fred/Projetos/DATASETS/MOS/BRSPEECH_MOS_DATASET/metadata.csv'\n",
    "wavs_filepath = \"/home/fred/Projetos/DATASETS/MOS/BRSPEECH_MOS_DATASET/\"\n",
    "with open(metadata_filepath, encoding=\"utf-8\") as f:\n",
    "  content_file = f.readlines()\n",
    "\n",
    "output_dir = \"./brspeech_mos_hubert_embeddings\"\n",
    "\n",
    "for line in tqdm(content_file):\n",
    "    filepath, score, condition, database = line.split(\",\")\n",
    "    filename = os.path.basename(filepath)\n",
    "    complete_filepath = os.path.join(wavs_filepath, filepath)\n",
    "    if not os.path.exists(complete_filepath):\n",
    "      continue\n",
    "    audio_data, sr = torchaudio.load(complete_filepath)\n",
    "    audio_data = audio_data.to(device).squeeze()\n",
    "    # Extract Embedding    \n",
    "    audio_data = processor(audio_data, return_tensors=\"pt\", padding=True, sampling_rate=16000).input_values\n",
    "    # Extract Embedding    \n",
    "    file_embedding = model(audio_data)#['last_hidden_state']\n",
    "    \n",
    "    # Saving embedding\n",
    "    output_filename = filename.split(\".\")[0] + \".pt\"\n",
    "    output_filepath = os.path.join(output_dir, os.path.dirname(filepath), output_filename)\n",
    "\n",
    "    os.makedirs(os.path.dirname(output_filepath), exist_ok=True)\n",
    "    torch.save(file_embedding, output_filepath)  "
   ]
  },
  {
   "cell_type": "code",
   "execution_count": null,
   "id": "6de762a2",
   "metadata": {},
   "outputs": [],
   "source": []
  }
 ],
 "metadata": {
  "kernelspec": {
   "display_name": "dl",
   "language": "python",
   "name": "dl"
  },
  "language_info": {
   "codemirror_mode": {
    "name": "ipython",
    "version": 3
   },
   "file_extension": ".py",
   "mimetype": "text/x-python",
   "name": "python",
   "nbconvert_exporter": "python",
   "pygments_lexer": "ipython3",
   "version": "3.8.13"
  }
 },
 "nbformat": 4,
 "nbformat_minor": 5
}
