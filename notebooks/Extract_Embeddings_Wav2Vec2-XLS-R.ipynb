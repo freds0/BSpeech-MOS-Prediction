{
 "cells": [
  {
   "cell_type": "code",
   "execution_count": 1,
   "id": "024f0812",
   "metadata": {},
   "outputs": [],
   "source": [
    "import torch, torchaudio"
   ]
  },
  {
   "cell_type": "code",
   "execution_count": 2,
   "id": "38d2af31",
   "metadata": {},
   "outputs": [
    {
     "name": "stdout",
     "output_type": "stream",
     "text": [
      "cuda\n",
      "True\n"
     ]
    }
   ],
   "source": [
    "device = torch.device('cuda' if torch.cuda.is_available() else 'cpu')\n",
    "cuda = torch.cuda.is_available()\n",
    "\n",
    "print(device)\n",
    "print(cuda)"
   ]
  },
  {
   "cell_type": "markdown",
   "id": "e624f27c",
   "metadata": {},
   "source": [
    "# Extract Embeddings"
   ]
  },
  {
   "cell_type": "code",
   "execution_count": 3,
   "id": "b8abc5b8",
   "metadata": {},
   "outputs": [],
   "source": [
    "import torch, torchaudio"
   ]
  },
  {
   "cell_type": "code",
   "execution_count": 4,
   "id": "2a4b1d80",
   "metadata": {},
   "outputs": [],
   "source": [
    "device = torch.device('cuda' if torch.cuda.is_available() else 'cpu')\n",
    "cuda = torch.cuda.is_available()\n"
   ]
  },
  {
   "cell_type": "code",
   "execution_count": 5,
   "id": "fd9ccceb",
   "metadata": {
    "scrolled": true
   },
   "outputs": [],
   "source": [
    "from transformers import Wav2Vec2Processor, Wav2Vec2Model\n"
   ]
  },
  {
   "cell_type": "code",
   "execution_count": 6,
   "id": "dde3eb86",
   "metadata": {},
   "outputs": [
    {
     "name": "stderr",
     "output_type": "stream",
     "text": [
      "Some weights of the model checkpoint at facebook/wav2vec2-xls-r-300m were not used when initializing Wav2Vec2Model: ['project_q.weight', 'quantizer.weight_proj.weight', 'quantizer.codevectors', 'project_q.bias', 'project_hid.bias', 'project_hid.weight', 'quantizer.weight_proj.bias']\n",
      "- This IS expected if you are initializing Wav2Vec2Model from the checkpoint of a model trained on another task or with another architecture (e.g. initializing a BertForSequenceClassification model from a BertForPreTraining model).\n",
      "- This IS NOT expected if you are initializing Wav2Vec2Model from the checkpoint of a model that you expect to be exactly identical (initializing a BertForSequenceClassification model from a BertForSequenceClassification model).\n"
     ]
    }
   ],
   "source": [
    "model_name = \"facebook/wav2vec2-xls-r-300m\"\n",
    "model = Wav2Vec2Model.from_pretrained(model_name)"
   ]
  },
  {
   "cell_type": "code",
   "execution_count": 7,
   "id": "70e16266",
   "metadata": {},
   "outputs": [],
   "source": [
    "model = model.to(device)"
   ]
  },
  {
   "cell_type": "code",
   "execution_count": 15,
   "id": "ea26e0ec",
   "metadata": {},
   "outputs": [],
   "source": [
    "filepath = \"/home/fred/Projetos/DATASETS/MOS/BRSPEECH_MOS_DATASET/data/ground_truth/dataset_oficial_copel-0592.wav\"\n",
    "\n",
    "audio_data, sr = torchaudio.load(filepath)\n",
    "audio_data = audio_data.to(device)"
   ]
  },
  {
   "cell_type": "code",
   "execution_count": 16,
   "id": "362feea3",
   "metadata": {},
   "outputs": [],
   "source": [
    "output = model(audio_data).last_hidden_state"
   ]
  },
  {
   "cell_type": "code",
   "execution_count": 17,
   "id": "166b40cf",
   "metadata": {},
   "outputs": [
    {
     "data": {
      "text/plain": [
       "torch.Size([1, 392, 1024])"
      ]
     },
     "execution_count": 17,
     "metadata": {},
     "output_type": "execute_result"
    }
   ],
   "source": [
    "output.shape"
   ]
  },
  {
   "cell_type": "code",
   "execution_count": 8,
   "id": "8ebcf46c",
   "metadata": {},
   "outputs": [
    {
     "name": "stderr",
     "output_type": "stream",
     "text": [
      "100%|███████████████████████████████████████████████████████████████████████████████████████████████████████████████████| 20580/20580 [10:59<00:00, 31.21it/s]\n"
     ]
    }
   ],
   "source": [
    "from tqdm import tqdm\n",
    "import os\n",
    "\n",
    "metadata_filepath = '/home/fred/Projetos/DATASETS/MOS/VCC2018_MOS_preprocessed/mos_list.txt'\n",
    "wavs_filepath = '/home/fred/Projetos/DATASETS/MOS/VCC2018_MOS_preprocessed/wav'\n",
    "with open(metadata_filepath, encoding=\"utf-8\") as f:\n",
    "  content_file = f.readlines()\n",
    "\n",
    "output_dir = \"/home/fred/Projetos/MOS/custom_mos_prediction/wav2vec_raw_embeddings/wav2vec2-xls-r/VCC2018_embeddings_wav2vec2-xls-r-300m\"\n",
    "os.makedirs(output_dir, exist_ok=True)\n",
    "\n",
    "for line in tqdm(content_file):\n",
    "    #filepath, mos, condition, database = line.split(',')\n",
    "    filepath, mos = line.split(',')\n",
    "    filename = os.path.basename(filepath)\n",
    "    filepath = os.path.join(wavs_filepath, filepath)\n",
    "    if not os.path.exists(filepath):\n",
    "      continue\n",
    "    audio_data, sr = torchaudio.load(filepath)    \n",
    "    audio_data = audio_data.to(device)\n",
    "\n",
    "    #audio_data = processor(audio_data, return_tensors=\"pt\", padding=True, sampling_rate=16000).input_values\n",
    "\n",
    "    # Extract Embedding    \n",
    "    file_embedding = model(audio_data).last_hidden_state\n",
    "    \n",
    "    # Saving embedding\n",
    "    output_filename = filename.split(\".\")[0] + \".pt\"\n",
    "    output_filepath = os.path.join(output_dir, output_filename)\n",
    "\n",
    "    torch.save(file_embedding, output_filepath)  "
   ]
  },
  {
   "cell_type": "code",
   "execution_count": 14,
   "id": "b1cfdfe9",
   "metadata": {},
   "outputs": [],
   "source": [
    "model = model.to(device)"
   ]
  },
  {
   "cell_type": "markdown",
   "id": "d99c0c43",
   "metadata": {},
   "source": [
    "# Extract Embeddings from BRSpeech"
   ]
  },
  {
   "cell_type": "code",
   "execution_count": 16,
   "id": "f979a0ba",
   "metadata": {},
   "outputs": [
    {
     "name": "stderr",
     "output_type": "stream",
     "text": [
      "100%|████████████████████████████████████████████████████████████████████████████████████████████████████████████████████| 2428/2428 [00:23<00:00, 104.29it/s]\n"
     ]
    }
   ],
   "source": [
    "metadata_filepath = '/home/fred/Projetos/DATASETS/MOS/BRSPEECH_MOS_DATASET/metadata.csv'\n",
    "wavs_filepath = \"/home/fred/Projetos/DATASETS/MOS/BRSPEECH_MOS_DATASET/\"\n",
    "with open(metadata_filepath, encoding=\"utf-8\") as f:\n",
    "  content_file = f.readlines()\n",
    "\n",
    "output_dir = \"./brspeech_mos_wav2vec_embeddings\"\n",
    "\n",
    "for line in tqdm(content_file):\n",
    "    filepath, score, condition, database = line.split(\",\")\n",
    "    filename = os.path.basename(filepath)\n",
    "    complete_filepath = os.path.join(wavs_filepath, filepath)\n",
    "    if not os.path.exists(complete_filepath):\n",
    "      continue\n",
    "    audio_data, sr = torchaudio.load(complete_filepath)\n",
    "    audio_data = audio_data.to(device)\n",
    "    # Extract Embedding    \n",
    "    file_embedding = model(audio_data)#['last_hidden_state']\n",
    "    \n",
    "    # Saving embedding\n",
    "    output_filename = filename.split(\".\")[0] + \".pt\"\n",
    "    output_filepath = os.path.join(output_dir, os.path.dirname(filepath), output_filename)\n",
    "\n",
    "    os.makedirs(os.path.dirname(output_filepath), exist_ok=True)\n",
    "    torch.save(file_embedding, output_filepath)  "
   ]
  },
  {
   "cell_type": "markdown",
   "id": "b24943a9",
   "metadata": {},
   "source": [
    "# DataLoader Tests"
   ]
  },
  {
   "cell_type": "code",
   "execution_count": 17,
   "id": "23bcda02",
   "metadata": {},
   "outputs": [],
   "source": [
    "from torch.utils.data import Dataset, DataLoader\n",
    "\n",
    "class EmbeddingsDataset(Dataset):\n",
    "    def __init__(self, filepaths: list, scores: list):\n",
    "        self.filepaths = filepaths\n",
    "        self.scores = scores\n",
    "\n",
    "    def __len__(self):\n",
    "        return len(self.filepaths)\n",
    "\n",
    "    def __getitem__(self, idx):\n",
    "        filename = self.filepaths[idx]\n",
    "        embedding = torch.load(filename).transpose(2,1)\n",
    "        embedding = embedding.mean(axis=-1)\n",
    "        score = self.scores[idx]\n",
    "\n",
    "        return {\"data\": embedding, \"score\": score}"
   ]
  },
  {
   "cell_type": "code",
   "execution_count": 33,
   "id": "660035b3",
   "metadata": {},
   "outputs": [
    {
     "data": {
      "text/plain": [
       "True"
      ]
     },
     "execution_count": 33,
     "metadata": {},
     "output_type": "execute_result"
    }
   ],
   "source": [
    "import torch\n",
    "torch.cuda.is_available()"
   ]
  },
  {
   "cell_type": "code",
   "execution_count": 38,
   "id": "c56062ae",
   "metadata": {},
   "outputs": [],
   "source": [
    "import torch\n",
    "def embedding_collate_fn(data):\n",
    "    \"\"\"\n",
    "       data: is a list of tuples with (example, label, length)\n",
    "             where 'example' is a tensor of arbitrary shape\n",
    "             and label/length are scalars\n",
    "    \"\"\"\n",
    "    features = [torch.tensor(d['data']) for d in data] #(3)\n",
    "    scores = torch.tensor([d['score']  for d in data])\n",
    "    new_features = pad_sequence([f.T for f in features], batch_first=True).squeeze()\n",
    "\n",
    "    return  {\n",
    "        'data': new_features,\n",
    "        'score': scores\n",
    "    }"
   ]
  },
  {
   "cell_type": "code",
   "execution_count": 53,
   "id": "64fbfab8",
   "metadata": {},
   "outputs": [],
   "source": [
    "import pandas as pd\n",
    "from os.path import join\n",
    "\n",
    "class EmbeddingsDataloader(DataLoader):\n",
    "    def __init__(self, data_dir, metadata_file, emb_dir, batch_size, shuffle=False, validation_split=0.1, num_workers=1, training=True):\n",
    "        self.batch_size = batch_size\n",
    "        self.shuffle = shuffle\n",
    "        train_data = pd.read_csv(join(data_dir, metadata_file))\n",
    "        train_data['score'] = train_data['score'] / train_data['score'].max()\n",
    "        scores = train_data['score'].to_list()\n",
    "        train_data['filepath'] = str(data_dir + \"/\" + emb_dir + \"/\") + train_data['filepath'] + \".pt\"\n",
    "        filepaths = train_data['filepath'].to_list()\n",
    "\n",
    "        self.dataset = EmbeddingsDataset(filepaths, scores)\n",
    "        #super().__init__(dataset=self.dataset, batch_size=batch_size, shuffle=False, num_workers=num_workers, collate_fn=embedding_collate_fn)\n",
    "        super().__init__(dataset=self.dataset, batch_size=batch_size)\n"
   ]
  },
  {
   "cell_type": "code",
   "execution_count": 40,
   "id": "d55d3ee3",
   "metadata": {},
   "outputs": [],
   "source": [
    "data_dir=\"/home/fred/Projetos/MOS/custom_mos_prediction/wav2vec_raw_embeddings/wav2vec2-xls-r/VCC2018_embeddings_wav2vec2-xls-r-300m/\"\n",
    "metadata_file=\"train.csv\"\n",
    "emb_dir=\"data\"\n",
    "batch_size=10"
   ]
  },
  {
   "cell_type": "code",
   "execution_count": 43,
   "id": "c5a1402f",
   "metadata": {},
   "outputs": [],
   "source": [
    "train_data = pd.read_csv(join(data_dir, metadata_file))\n",
    "train_data['score'] = train_data['score'] / train_data['score'].max()\n",
    "scores = train_data['score'].to_list()\n",
    "train_data['filepath'] = str(data_dir + \"/\" + emb_dir + \"/\") + train_data['filepath'] + \".pt\"\n",
    "filepaths = train_data['filepath'].to_list()"
   ]
  },
  {
   "cell_type": "code",
   "execution_count": 45,
   "id": "c9e9732f",
   "metadata": {},
   "outputs": [
    {
     "data": {
      "text/plain": [
       "18522"
      ]
     },
     "execution_count": 45,
     "metadata": {},
     "output_type": "execute_result"
    }
   ],
   "source": [
    "len(filepaths)"
   ]
  },
  {
   "cell_type": "code",
   "execution_count": 46,
   "id": "2f04c1f7",
   "metadata": {},
   "outputs": [
    {
     "data": {
      "text/plain": [
       "18522"
      ]
     },
     "execution_count": 46,
     "metadata": {},
     "output_type": "execute_result"
    }
   ],
   "source": [
    "len(scores)"
   ]
  },
  {
   "cell_type": "code",
   "execution_count": 47,
   "id": "7e9fca31",
   "metadata": {},
   "outputs": [],
   "source": [
    "train_dataset = EmbeddingsDataset(filepaths, scores)"
   ]
  },
  {
   "cell_type": "code",
   "execution_count": 48,
   "id": "6fa55436",
   "metadata": {},
   "outputs": [],
   "source": [
    "train_dataloader = DataLoader(train_dataset, batch_size)"
   ]
  },
  {
   "cell_type": "code",
   "execution_count": 52,
   "id": "cea43e7c",
   "metadata": {},
   "outputs": [
    {
     "name": "stdout",
     "output_type": "stream",
     "text": [
      "tensor([[[ 5.2956e-02,  2.0203e-02,  6.1016e-02,  ..., -8.9338e-02,\n",
      "           5.8017e-02,  5.1611e-01]],\n",
      "\n",
      "        [[ 7.9277e-02,  2.8913e-02,  5.9120e-02,  ..., -1.0158e-01,\n",
      "           4.0887e-02,  5.4508e-01]],\n",
      "\n",
      "        [[ 7.2826e-02,  1.1293e-04,  1.0283e-01,  ..., -9.9419e-02,\n",
      "           3.6471e-02,  5.5208e-01]],\n",
      "\n",
      "        ...,\n",
      "\n",
      "        [[ 9.2709e-02,  3.7461e-02,  6.8724e-02,  ..., -8.0536e-02,\n",
      "           6.9790e-02,  5.2259e-01]],\n",
      "\n",
      "        [[-6.1411e-03, -3.0505e-02,  5.4099e-02,  ..., -8.5849e-02,\n",
      "           4.5544e-02,  5.1269e-01]],\n",
      "\n",
      "        [[ 4.7661e-02,  3.9256e-03,  9.4667e-02,  ..., -1.0732e-01,\n",
      "           5.7054e-02,  5.6737e-01]]], device='cuda:0',\n",
      "       grad_fn=<StackBackward0>)\n",
      "tensor([0.1000, 0.7000, 0.1500, 0.4500, 0.6500, 0.4500, 0.3500, 0.3500, 0.9500,\n",
      "        0.6500], dtype=torch.float64)\n"
     ]
    }
   ],
   "source": [
    "for data in train_dataloader:\n",
    "    print(data[\"data\"])\n",
    "    print(data[\"score\"])\n",
    "    break"
   ]
  },
  {
   "cell_type": "code",
   "execution_count": 54,
   "id": "d16ae6fc",
   "metadata": {},
   "outputs": [],
   "source": [
    "train_dataloader = EmbeddingsDataloader(data_dir, metadata_file, emb_dir, batch_size)"
   ]
  },
  {
   "cell_type": "code",
   "execution_count": 55,
   "id": "e194d96c",
   "metadata": {},
   "outputs": [
    {
     "name": "stdout",
     "output_type": "stream",
     "text": [
      "{'data': tensor([[[ 5.2956e-02,  2.0203e-02,  6.1016e-02,  ..., -8.9338e-02,\n",
      "           5.8017e-02,  5.1611e-01]],\n",
      "\n",
      "        [[ 7.9277e-02,  2.8913e-02,  5.9120e-02,  ..., -1.0158e-01,\n",
      "           4.0887e-02,  5.4508e-01]],\n",
      "\n",
      "        [[ 7.2826e-02,  1.1293e-04,  1.0283e-01,  ..., -9.9419e-02,\n",
      "           3.6471e-02,  5.5208e-01]],\n",
      "\n",
      "        ...,\n",
      "\n",
      "        [[ 9.2709e-02,  3.7461e-02,  6.8724e-02,  ..., -8.0536e-02,\n",
      "           6.9790e-02,  5.2259e-01]],\n",
      "\n",
      "        [[-6.1411e-03, -3.0505e-02,  5.4099e-02,  ..., -8.5849e-02,\n",
      "           4.5544e-02,  5.1269e-01]],\n",
      "\n",
      "        [[ 4.7661e-02,  3.9256e-03,  9.4667e-02,  ..., -1.0732e-01,\n",
      "           5.7054e-02,  5.6737e-01]]], device='cuda:0',\n",
      "       grad_fn=<StackBackward0>), 'score': tensor([0.1000, 0.7000, 0.1500, 0.4500, 0.6500, 0.4500, 0.3500, 0.3500, 0.9500,\n",
      "        0.6500], dtype=torch.float64)}\n"
     ]
    }
   ],
   "source": [
    "for data in train_dataloader:\n",
    "    print(data)\n",
    "    break"
   ]
  },
  {
   "cell_type": "code",
   "execution_count": 1,
   "id": "67227536",
   "metadata": {},
   "outputs": [],
   "source": [
    "from utils.config_parser import ConfigParser"
   ]
  },
  {
   "cell_type": "code",
   "execution_count": 2,
   "id": "fa09b5cb",
   "metadata": {},
   "outputs": [],
   "source": [
    "from data_loader import data_loaders as module_data"
   ]
  },
  {
   "cell_type": "code",
   "execution_count": 3,
   "id": "e82426f4",
   "metadata": {},
   "outputs": [],
   "source": [
    "from utils.util import read_json"
   ]
  },
  {
   "cell_type": "code",
   "execution_count": 11,
   "id": "ebecefae",
   "metadata": {},
   "outputs": [],
   "source": [
    "config_data = read_json(\"./config.json\")"
   ]
  },
  {
   "cell_type": "code",
   "execution_count": 12,
   "id": "027ad898",
   "metadata": {},
   "outputs": [],
   "source": [
    "config = ConfigParser(config_data)"
   ]
  },
  {
   "cell_type": "code",
   "execution_count": 13,
   "id": "cfb643a1",
   "metadata": {},
   "outputs": [
    {
     "data": {
      "text/plain": [
       "'DenseModel_with_VCC2018_wav2vec2-xls-r-300m'"
      ]
     },
     "execution_count": 13,
     "metadata": {},
     "output_type": "execute_result"
    }
   ],
   "source": [
    "config[\"name\"]"
   ]
  },
  {
   "cell_type": "code",
   "execution_count": 14,
   "id": "8f82455d",
   "metadata": {},
   "outputs": [],
   "source": [
    "data_loader = config.init_obj('data_loader', module_data)"
   ]
  },
  {
   "cell_type": "code",
   "execution_count": 16,
   "id": "c10d1fae",
   "metadata": {},
   "outputs": [
    {
     "name": "stderr",
     "output_type": "stream",
     "text": [
      "/home/fred/Projetos/MOS/custom_mos_prediction/wav2vec_raw_embeddings/wav2vec2-xls-r/data_loader/data_loaders.py:32: UserWarning: To copy construct from a tensor, it is recommended to use sourceTensor.clone().detach() or sourceTensor.clone().detach().requires_grad_(True), rather than torch.tensor(sourceTensor).\n",
      "  features = [torch.tensor(d['data']) for d in data] #(3)\n",
      "/home/fred/Projetos/MOS/custom_mos_prediction/wav2vec_raw_embeddings/wav2vec2-xls-r/data_loader/data_loaders.py:32: UserWarning: To copy construct from a tensor, it is recommended to use sourceTensor.clone().detach() or sourceTensor.clone().detach().requires_grad_(True), rather than torch.tensor(sourceTensor).\n",
      "  features = [torch.tensor(d['data']) for d in data] #(3)\n"
     ]
    },
    {
     "ename": "RuntimeError",
     "evalue": "CUDA error: out of memory\nCUDA kernel errors might be asynchronously reported at some other API call,so the stacktrace below might be incorrect.\nFor debugging consider passing CUDA_LAUNCH_BLOCKING=1.",
     "output_type": "error",
     "traceback": [
      "\u001b[0;31m---------------------------------------------------------------------------\u001b[0m",
      "\u001b[0;31mRuntimeError\u001b[0m                              Traceback (most recent call last)",
      "Input \u001b[0;32mIn [16]\u001b[0m, in \u001b[0;36m<cell line: 1>\u001b[0;34m()\u001b[0m\n\u001b[1;32m      1\u001b[0m \u001b[38;5;28;01mfor\u001b[39;00m data \u001b[38;5;129;01min\u001b[39;00m \u001b[38;5;28miter\u001b[39m(data_loader):\n\u001b[0;32m----> 2\u001b[0m     \u001b[38;5;28;43mprint\u001b[39;49m\u001b[43m(\u001b[49m\u001b[43mdata\u001b[49m\u001b[43m)\u001b[49m\n\u001b[1;32m      3\u001b[0m     \u001b[38;5;28;01mbreak\u001b[39;00m\n",
      "File \u001b[0;32m~/.conda/envs/dl/lib/python3.8/site-packages/torch/_tensor.py:305\u001b[0m, in \u001b[0;36mTensor.__repr__\u001b[0;34m(self)\u001b[0m\n\u001b[1;32m    303\u001b[0m     \u001b[38;5;28;01mreturn\u001b[39;00m handle_torch_function(Tensor\u001b[38;5;241m.\u001b[39m\u001b[38;5;21m__repr__\u001b[39m, (\u001b[38;5;28mself\u001b[39m,), \u001b[38;5;28mself\u001b[39m)\n\u001b[1;32m    304\u001b[0m \u001b[38;5;66;03m# All strings are unicode in Python 3.\u001b[39;00m\n\u001b[0;32m--> 305\u001b[0m \u001b[38;5;28;01mreturn\u001b[39;00m \u001b[43mtorch\u001b[49m\u001b[38;5;241;43m.\u001b[39;49m\u001b[43m_tensor_str\u001b[49m\u001b[38;5;241;43m.\u001b[39;49m\u001b[43m_str\u001b[49m\u001b[43m(\u001b[49m\u001b[38;5;28;43mself\u001b[39;49m\u001b[43m)\u001b[49m\n",
      "File \u001b[0;32m~/.conda/envs/dl/lib/python3.8/site-packages/torch/_tensor_str.py:434\u001b[0m, in \u001b[0;36m_str\u001b[0;34m(self)\u001b[0m\n\u001b[1;32m    432\u001b[0m \u001b[38;5;28;01mdef\u001b[39;00m \u001b[38;5;21m_str\u001b[39m(\u001b[38;5;28mself\u001b[39m):\n\u001b[1;32m    433\u001b[0m     \u001b[38;5;28;01mwith\u001b[39;00m torch\u001b[38;5;241m.\u001b[39mno_grad():\n\u001b[0;32m--> 434\u001b[0m         \u001b[38;5;28;01mreturn\u001b[39;00m \u001b[43m_str_intern\u001b[49m\u001b[43m(\u001b[49m\u001b[38;5;28;43mself\u001b[39;49m\u001b[43m)\u001b[49m\n",
      "File \u001b[0;32m~/.conda/envs/dl/lib/python3.8/site-packages/torch/_tensor_str.py:409\u001b[0m, in \u001b[0;36m_str_intern\u001b[0;34m(inp)\u001b[0m\n\u001b[1;32m    407\u001b[0m                 tensor_str \u001b[38;5;241m=\u001b[39m _tensor_str(\u001b[38;5;28mself\u001b[39m\u001b[38;5;241m.\u001b[39mto_dense(), indent)\n\u001b[1;32m    408\u001b[0m             \u001b[38;5;28;01melse\u001b[39;00m:\n\u001b[0;32m--> 409\u001b[0m                 tensor_str \u001b[38;5;241m=\u001b[39m \u001b[43m_tensor_str\u001b[49m\u001b[43m(\u001b[49m\u001b[38;5;28;43mself\u001b[39;49m\u001b[43m,\u001b[49m\u001b[43m \u001b[49m\u001b[43mindent\u001b[49m\u001b[43m)\u001b[49m\n\u001b[1;32m    411\u001b[0m \u001b[38;5;28;01mif\u001b[39;00m \u001b[38;5;28mself\u001b[39m\u001b[38;5;241m.\u001b[39mlayout \u001b[38;5;241m!=\u001b[39m torch\u001b[38;5;241m.\u001b[39mstrided:\n\u001b[1;32m    412\u001b[0m     suffixes\u001b[38;5;241m.\u001b[39mappend(\u001b[38;5;124m'\u001b[39m\u001b[38;5;124mlayout=\u001b[39m\u001b[38;5;124m'\u001b[39m \u001b[38;5;241m+\u001b[39m \u001b[38;5;28mstr\u001b[39m(\u001b[38;5;28mself\u001b[39m\u001b[38;5;241m.\u001b[39mlayout))\n",
      "File \u001b[0;32m~/.conda/envs/dl/lib/python3.8/site-packages/torch/_tensor_str.py:264\u001b[0m, in \u001b[0;36m_tensor_str\u001b[0;34m(self, indent)\u001b[0m\n\u001b[1;32m    262\u001b[0m     \u001b[38;5;28;01mreturn\u001b[39;00m _tensor_str_with_formatter(\u001b[38;5;28mself\u001b[39m, indent, summarize, real_formatter, imag_formatter)\n\u001b[1;32m    263\u001b[0m \u001b[38;5;28;01melse\u001b[39;00m:\n\u001b[0;32m--> 264\u001b[0m     formatter \u001b[38;5;241m=\u001b[39m _Formatter(\u001b[43mget_summarized_data\u001b[49m\u001b[43m(\u001b[49m\u001b[38;5;28;43mself\u001b[39;49m\u001b[43m)\u001b[49m \u001b[38;5;28;01mif\u001b[39;00m summarize \u001b[38;5;28;01melse\u001b[39;00m \u001b[38;5;28mself\u001b[39m)\n\u001b[1;32m    265\u001b[0m     \u001b[38;5;28;01mreturn\u001b[39;00m _tensor_str_with_formatter(\u001b[38;5;28mself\u001b[39m, indent, summarize, formatter)\n",
      "File \u001b[0;32m~/.conda/envs/dl/lib/python3.8/site-packages/torch/_tensor_str.py:296\u001b[0m, in \u001b[0;36mget_summarized_data\u001b[0;34m(self)\u001b[0m\n\u001b[1;32m    293\u001b[0m     start \u001b[38;5;241m=\u001b[39m [\u001b[38;5;28mself\u001b[39m[i] \u001b[38;5;28;01mfor\u001b[39;00m i \u001b[38;5;129;01min\u001b[39;00m \u001b[38;5;28mrange\u001b[39m(\u001b[38;5;241m0\u001b[39m, PRINT_OPTS\u001b[38;5;241m.\u001b[39medgeitems)]\n\u001b[1;32m    294\u001b[0m     end \u001b[38;5;241m=\u001b[39m ([\u001b[38;5;28mself\u001b[39m[i]\n\u001b[1;32m    295\u001b[0m            \u001b[38;5;28;01mfor\u001b[39;00m i \u001b[38;5;129;01min\u001b[39;00m \u001b[38;5;28mrange\u001b[39m(\u001b[38;5;28mlen\u001b[39m(\u001b[38;5;28mself\u001b[39m) \u001b[38;5;241m-\u001b[39m PRINT_OPTS\u001b[38;5;241m.\u001b[39medgeitems, \u001b[38;5;28mlen\u001b[39m(\u001b[38;5;28mself\u001b[39m))])\n\u001b[0;32m--> 296\u001b[0m     \u001b[38;5;28;01mreturn\u001b[39;00m torch\u001b[38;5;241m.\u001b[39mstack([get_summarized_data(x) \u001b[38;5;28;01mfor\u001b[39;00m x \u001b[38;5;129;01min\u001b[39;00m (start \u001b[38;5;241m+\u001b[39m end)])\n\u001b[1;32m    297\u001b[0m \u001b[38;5;28;01melse\u001b[39;00m:\n\u001b[1;32m    298\u001b[0m     \u001b[38;5;28;01mreturn\u001b[39;00m torch\u001b[38;5;241m.\u001b[39mstack([get_summarized_data(x) \u001b[38;5;28;01mfor\u001b[39;00m x \u001b[38;5;129;01min\u001b[39;00m \u001b[38;5;28mself\u001b[39m])\n",
      "File \u001b[0;32m~/.conda/envs/dl/lib/python3.8/site-packages/torch/_tensor_str.py:296\u001b[0m, in \u001b[0;36m<listcomp>\u001b[0;34m(.0)\u001b[0m\n\u001b[1;32m    293\u001b[0m     start \u001b[38;5;241m=\u001b[39m [\u001b[38;5;28mself\u001b[39m[i] \u001b[38;5;28;01mfor\u001b[39;00m i \u001b[38;5;129;01min\u001b[39;00m \u001b[38;5;28mrange\u001b[39m(\u001b[38;5;241m0\u001b[39m, PRINT_OPTS\u001b[38;5;241m.\u001b[39medgeitems)]\n\u001b[1;32m    294\u001b[0m     end \u001b[38;5;241m=\u001b[39m ([\u001b[38;5;28mself\u001b[39m[i]\n\u001b[1;32m    295\u001b[0m            \u001b[38;5;28;01mfor\u001b[39;00m i \u001b[38;5;129;01min\u001b[39;00m \u001b[38;5;28mrange\u001b[39m(\u001b[38;5;28mlen\u001b[39m(\u001b[38;5;28mself\u001b[39m) \u001b[38;5;241m-\u001b[39m PRINT_OPTS\u001b[38;5;241m.\u001b[39medgeitems, \u001b[38;5;28mlen\u001b[39m(\u001b[38;5;28mself\u001b[39m))])\n\u001b[0;32m--> 296\u001b[0m     \u001b[38;5;28;01mreturn\u001b[39;00m torch\u001b[38;5;241m.\u001b[39mstack([\u001b[43mget_summarized_data\u001b[49m\u001b[43m(\u001b[49m\u001b[43mx\u001b[49m\u001b[43m)\u001b[49m \u001b[38;5;28;01mfor\u001b[39;00m x \u001b[38;5;129;01min\u001b[39;00m (start \u001b[38;5;241m+\u001b[39m end)])\n\u001b[1;32m    297\u001b[0m \u001b[38;5;28;01melse\u001b[39;00m:\n\u001b[1;32m    298\u001b[0m     \u001b[38;5;28;01mreturn\u001b[39;00m torch\u001b[38;5;241m.\u001b[39mstack([get_summarized_data(x) \u001b[38;5;28;01mfor\u001b[39;00m x \u001b[38;5;129;01min\u001b[39;00m \u001b[38;5;28mself\u001b[39m])\n",
      "File \u001b[0;32m~/.conda/envs/dl/lib/python3.8/site-packages/torch/_tensor_str.py:289\u001b[0m, in \u001b[0;36mget_summarized_data\u001b[0;34m(self)\u001b[0m\n\u001b[1;32m    287\u001b[0m \u001b[38;5;28;01mif\u001b[39;00m dim \u001b[38;5;241m==\u001b[39m \u001b[38;5;241m1\u001b[39m:\n\u001b[1;32m    288\u001b[0m     \u001b[38;5;28;01mif\u001b[39;00m \u001b[38;5;28mself\u001b[39m\u001b[38;5;241m.\u001b[39msize(\u001b[38;5;241m0\u001b[39m) \u001b[38;5;241m>\u001b[39m \u001b[38;5;241m2\u001b[39m \u001b[38;5;241m*\u001b[39m PRINT_OPTS\u001b[38;5;241m.\u001b[39medgeitems:\n\u001b[0;32m--> 289\u001b[0m         \u001b[38;5;28;01mreturn\u001b[39;00m \u001b[43mtorch\u001b[49m\u001b[38;5;241;43m.\u001b[39;49m\u001b[43mcat\u001b[49m\u001b[43m(\u001b[49m\u001b[43m(\u001b[49m\u001b[38;5;28;43mself\u001b[39;49m\u001b[43m[\u001b[49m\u001b[43m:\u001b[49m\u001b[43mPRINT_OPTS\u001b[49m\u001b[38;5;241;43m.\u001b[39;49m\u001b[43medgeitems\u001b[49m\u001b[43m]\u001b[49m\u001b[43m,\u001b[49m\u001b[43m \u001b[49m\u001b[38;5;28;43mself\u001b[39;49m\u001b[43m[\u001b[49m\u001b[38;5;241;43m-\u001b[39;49m\u001b[43mPRINT_OPTS\u001b[49m\u001b[38;5;241;43m.\u001b[39;49m\u001b[43medgeitems\u001b[49m\u001b[43m:\u001b[49m\u001b[43m]\u001b[49m\u001b[43m)\u001b[49m\u001b[43m)\u001b[49m\n\u001b[1;32m    290\u001b[0m     \u001b[38;5;28;01melse\u001b[39;00m:\n\u001b[1;32m    291\u001b[0m         \u001b[38;5;28;01mreturn\u001b[39;00m \u001b[38;5;28mself\u001b[39m\n",
      "\u001b[0;31mRuntimeError\u001b[0m: CUDA error: out of memory\nCUDA kernel errors might be asynchronously reported at some other API call,so the stacktrace below might be incorrect.\nFor debugging consider passing CUDA_LAUNCH_BLOCKING=1."
     ]
    }
   ],
   "source": [
    "for data in iter(data_loader):\n",
    "    print(data)\n",
    "    break"
   ]
  },
  {
   "cell_type": "code",
   "execution_count": null,
   "id": "4a848703",
   "metadata": {},
   "outputs": [],
   "source": []
  }
 ],
 "metadata": {
  "kernelspec": {
   "display_name": "dl",
   "language": "python",
   "name": "dl"
  },
  "language_info": {
   "codemirror_mode": {
    "name": "ipython",
    "version": 3
   },
   "file_extension": ".py",
   "mimetype": "text/x-python",
   "name": "python",
   "nbconvert_exporter": "python",
   "pygments_lexer": "ipython3",
   "version": "3.8.13"
  }
 },
 "nbformat": 4,
 "nbformat_minor": 5
}
