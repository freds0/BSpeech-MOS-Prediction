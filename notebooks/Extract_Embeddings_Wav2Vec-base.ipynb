{
 "cells": [
  {
   "cell_type": "code",
   "execution_count": null,
   "id": "024f0812",
   "metadata": {},
   "outputs": [],
   "source": [
    "import torch, torchaudio"
   ]
  },
  {
   "cell_type": "code",
   "execution_count": null,
   "id": "fc74307c",
   "metadata": {},
   "outputs": [],
   "source": [
    "from collections import OrderedDict\n",
    "\n",
    "def extract_prefix(prefix, weights):\n",
    "    result = OrderedDict()\n",
    "    for key in weights:\n",
    "        if key.find(prefix) == 0:\n",
    "            result[key[len(prefix):]] = weights[key]\n",
    "    return result     "
   ]
  },
  {
   "cell_type": "code",
   "execution_count": null,
   "id": "5c6a4b3b",
   "metadata": {},
   "outputs": [],
   "source": [
    "from transformers import Wav2Vec2Model, Wav2Vec2Processor\n",
    "\n",
    "class Wav2Vec2ConvEncoder:\n",
    "\n",
    "    def __init__(self, device=\"cuda\"):\n",
    "        self.encoder = Wav2Vec2Model.from_pretrained(\"facebook/wav2vec2-base\").feature_extractor\n",
    "        self.encoder.eval()\n",
    "        self.encoder = self.encoder.to(device)\n",
    "        self.preprocessor = Wav2Vec2Processor.from_pretrained(\"facebook/wav2vec2-base\")\n",
    "        self.preprocessor._sample_rate = 16000\n",
    "        self.device = device\n",
    "\n",
    "    def __call__(self, x):\n",
    "        # x - [bs, 1, time]\n",
    "        x = x[:, 0]\n",
    "        input_values = (x - x.mean(-1)[:, None]) / (x.std(-1)[:, None] + 1e-6)\n",
    "        hidden_states = self.encoder(input_values.to(self.device))\n",
    "        return hidden_states"
   ]
  },
  {
   "cell_type": "code",
   "execution_count": null,
   "id": "178adb79",
   "metadata": {},
   "outputs": [],
   "source": [
    "class Wav2Vec2FullEncoder:\n",
    "\n",
    "    def __init__(self, device=\"cuda\"):\n",
    "        self.encoder = Wav2Vec2Model.from_pretrained(\"facebook/wav2vec2-base\")\n",
    "        self.encoder.eval()\n",
    "        self.encoder = self.encoder.to(device)\n",
    "        self.preprocessor = Wav2Vec2Processor.from_pretrained(\"facebook/wav2vec2-base\")\n",
    "        self.preprocessor._sample_rate = 16000\n",
    "        self.device = device\n",
    "\n",
    "    def __call__(self, x):\n",
    "        # x - [bs, 1, time]\n",
    "        x = x[:, 0]\n",
    "        input_values = (x - x.mean(-1)[:, None]) / (x.std(-1)[:, None] + 1e-6)\n",
    "        hidden_states = self.encoder(input_values.to(self.device)).last_hidden_state\n",
    "        return hidden_states.transpose(-2, -1)"
   ]
  },
  {
   "cell_type": "code",
   "execution_count": null,
   "id": "041cb440",
   "metadata": {},
   "outputs": [],
   "source": [
    "from torch import nn\n",
    "import numpy as np\n",
    "import librosa\n",
    "import glob\n",
    "\n",
    "class Wav2Vec2MOS(nn.Module):\n",
    "    #def __init__(self, path, freeze=True, cuda=True):\n",
    "    def __init__(self, freeze=True, cuda=True):\n",
    "        super().__init__()\n",
    "        self.encoder = Wav2Vec2Model.from_pretrained(\"facebook/wav2vec2-base\")\n",
    "        self.freeze = freeze\n",
    "        \n",
    "        self.dense = nn.Sequential(\n",
    "            nn.Linear(768, 128),\n",
    "            nn.ReLU(),\n",
    "            nn.Dropout(0.1),\n",
    "            nn.Linear(128, 1)\n",
    "        )\n",
    "        \n",
    "        #if freeze == True:\n",
    "        self.encoder.eval()\n",
    "        '''\n",
    "            for p in self.encoder.parameters():\n",
    "                p.requires_grad_(False)\n",
    "        self.load_state_dict(extract_prefix('model.', torch.load(path)['state_dict']))\n",
    "        ''' \n",
    "        self.eval()\n",
    "        self.cuda_flag = cuda\n",
    "        if cuda:\n",
    "            self.cuda()\n",
    "        self.processor = Wav2Vec2Processor.from_pretrained(\"facebook/wav2vec2-base\")\n",
    "        \n",
    "    def forward(self, x):\n",
    "        x = self.encoder(x)['last_hidden_state'] # [Batch, time, feats]\n",
    "        x = self.dense(x) # [batch, time, 1]\n",
    "        x = x.mean(dim=[1,2], keepdims=True) # [batch, 1, 1]\n",
    "        return x\n",
    "                \n",
    "    def train(self, mode):\n",
    "        super().train(mode)\n",
    "        if self.freeze == True:\n",
    "            self.encoder.eval()\n",
    "            \n",
    "    def calculate_dir(self, path, mean=True):\n",
    "        \n",
    "        pred_mos = []\n",
    "        for path in tqdm.tqdm(sorted(glob.glob(f\"{path}/*.wav\"))):\n",
    "            signal = librosa.load(path, sr=16_000)[0]\n",
    "            x = self.processor(signal, return_tensors=\"pt\", padding=True, sampling_rate=16000).input_values\n",
    "            if self.cuda_flag:\n",
    "                x = x.cuda()\n",
    "            with torch.no_grad():\n",
    "                res = self.forward(x).mean()\n",
    "            pred_mos.append(res.item())\n",
    "        if mean:\n",
    "            return np.mean(pred_mos)\n",
    "        else:\n",
    "            return pred_mos\n",
    "        \n",
    "    def calculate_one(self, path):\n",
    "        signal = librosa.load(path, sr=16_000)[0]\n",
    "        x = self.processor(signal, return_tensors=\"pt\", padding=True, sampling_rate=16000).input_values\n",
    "        with torch.no_grad():\n",
    "            if self.cuda_flag:\n",
    "                x = x.cuda()\n",
    "            res = self.forward(x).mean()\n",
    "        return res.cpu().item()"
   ]
  },
  {
   "cell_type": "code",
   "execution_count": null,
   "id": "38d2af31",
   "metadata": {},
   "outputs": [],
   "source": [
    "device = torch.device('cuda' if torch.cuda.is_available() else 'cpu')\n",
    "cuda = torch.cuda.is_available()\n",
    "\n",
    "print(device)\n",
    "print(cuda)"
   ]
  },
  {
   "cell_type": "code",
   "execution_count": null,
   "id": "b655e1dc",
   "metadata": {},
   "outputs": [],
   "source": [
    "model = Wav2Vec2MOS(cuda=cuda)"
   ]
  },
  {
   "cell_type": "code",
   "execution_count": null,
   "id": "279b9b62",
   "metadata": {},
   "outputs": [],
   "source": [
    "import torchaudio"
   ]
  },
  {
   "cell_type": "code",
   "execution_count": null,
   "id": "f3c86637",
   "metadata": {},
   "outputs": [],
   "source": [
    "filepath = \"/home/fred/Projetos/DATASETS/MOS/BRSPEECH_MOS_DATASET_old/wavs/2959_2564_000001.wav\"\n",
    "\n",
    "data,sr = torchaudio.load(filepath)"
   ]
  },
  {
   "cell_type": "code",
   "execution_count": null,
   "id": "dbbc64ab",
   "metadata": {},
   "outputs": [],
   "source": [
    "data = data.cuda()"
   ]
  },
  {
   "cell_type": "code",
   "execution_count": null,
   "id": "016d6f5c",
   "metadata": {},
   "outputs": [],
   "source": [
    "output = model(data)"
   ]
  },
  {
   "cell_type": "code",
   "execution_count": null,
   "id": "464b6a05",
   "metadata": {},
   "outputs": [],
   "source": [
    "output"
   ]
  },
  {
   "cell_type": "code",
   "execution_count": null,
   "id": "c8a85ab1",
   "metadata": {},
   "outputs": [],
   "source": [
    "from torch.utils.data import DataLoader, Dataset\n",
    "from torch.nn.utils.rnn import pad_sequence \n",
    "\n",
    "class VCC2018WavDatasetLoad(Dataset):\n",
    "    def __init__(self, audio_names: list, labels: list):\n",
    "        self.audio_names = audio_names\n",
    "        self.labels = labels\n",
    "\n",
    "        #self.label_to_id = dict((mos,id) for id, mos in enumerate(labels))\n",
    "        \n",
    "    def __len__(self):\n",
    "        return len(self.audio_names)\n",
    "\n",
    "    def __getitem__(self, idx):\n",
    "        filename = self.audio_names[idx]\n",
    "        #waveform, sample_rate = torchaudio.load(filename)\n",
    "        waveform, sample_rate = torchaudio.load(filename)\n",
    "        #waveform = torch.from_numpy(waveform)\n",
    "        #target = self.label_to_id[self.labels[idx]]\n",
    "        target = self.labels[idx]\n",
    "        \n",
    "        return {\"data\": waveform, \"target\": target}\n",
    "\n",
    "\n",
    "def custom_wav_collate_fn(data):\n",
    "    \"\"\"\n",
    "       data: is a list of tuples with (example, label, length)\n",
    "             where 'example' is a tensor of arbitrary shape\n",
    "             and label/length are scalars\n",
    "    \"\"\"\n",
    "    features = [torch.tensor(d['data']) for d in data] #(3)\n",
    "    labels = torch.tensor([d['target']  for d in data]) \n",
    "    new_features = pad_sequence([f.T for f in features], batch_first=True).squeeze()\n",
    "    new_features\n",
    "    return  {\n",
    "        'data': new_features.to(device),\n",
    "        'target': labels.to(device)\n",
    "    }"
   ]
  },
  {
   "cell_type": "code",
   "execution_count": null,
   "id": "23f6fbb5",
   "metadata": {},
   "outputs": [],
   "source": [
    "\n",
    "def train(model, iterator, optimizer, criterion, scheduler, epoch=0):\n",
    "\n",
    "    model.train(mode=True)        \n",
    "    epoch_loss = 0\n",
    "    total_steps = len(iterator)\n",
    "    for i, batch in enumerate(iterator):\n",
    "\n",
    "        data = batch['data'].to(device, dtype=torch.float32)\n",
    "        labels = batch['target'].to(device, dtype=torch.float32)\n",
    "        optimizer.zero_grad()\n",
    "        output = model(data)\n",
    "        loss = criterion(output, labels)\n",
    "        loss.backward()\n",
    "        optimizer.step()\n",
    "        scheduler.step()\n",
    "        \n",
    "        epoch_loss += loss.item()\n",
    "\n",
    "        if i % ( int(total_steps / 100)) == 0:\n",
    "          print(\"Train step {0} / {1}  loss: {2:.5f}\".format(i, total_steps, loss.item()))\n",
    "\n",
    "\n",
    "    return epoch_loss"
   ]
  },
  {
   "cell_type": "code",
   "execution_count": null,
   "id": "a2f03a36",
   "metadata": {},
   "outputs": [],
   "source": [
    "\n",
    "def evaluate(model, iterator, criterion, epoch):\n",
    "\n",
    "    model.eval()\n",
    "    epoch_loss = 0\n",
    "    with torch.no_grad():\n",
    "        for i, batch in enumerate(iterator):\n",
    "\n",
    "            data = batch['data'].to(device, dtype=torch.float32)\n",
    "            batch_size = data.shape[0]\n",
    "            labels = batch['target'].to(device, dtype=torch.float32)\n",
    "            output = model(data)\n",
    "            loss = criterion(output, labels)\n",
    "            \n",
    "            epoch_loss += loss.item()\n",
    "            \n",
    "            print(\"Test Epoch {0}   loss: {2:.5f}\".format(epoch, loss.item()))\n",
    "\n",
    "    return epoch_loss"
   ]
  },
  {
   "cell_type": "code",
   "execution_count": null,
   "id": "961f8901",
   "metadata": {},
   "outputs": [],
   "source": [
    "def epoch_time(start_time, end_time):\n",
    "    elapsed_time = end_time - start_time\n",
    "    elapsed_mins = int(elapsed_time / 60)\n",
    "    elapsed_secs = int(elapsed_time - (elapsed_mins * 60))\n",
    "    return elapsed_mins, elapsed_secs\n"
   ]
  },
  {
   "cell_type": "code",
   "execution_count": null,
   "id": "8eb26efd",
   "metadata": {},
   "outputs": [],
   "source": [
    "import pandas as pd\n",
    "\n",
    "metadata_train = \"/home/fred/Projetos/MOS/custom_mos_prediction/data/train.csv\"\n",
    "metadata_test = \"/home/fred/Projetos/MOS/custom_mos_prediction/data/test.csv\"\n",
    "\n",
    "train_data = pd.read_csv(metadata_train)\n",
    "test_data = pd.read_csv(metadata_test)\n",
    "\n",
    "scores_train = train_data['score'].to_list()\n",
    "audio_names_train = train_data['filepath'].to_list()\n",
    "\n",
    "scores_test = test_data['score'].to_list()\n",
    "audio_names_test = test_data['filepath'].to_list()\n",
    "\n",
    "dataset_train = VCC2018WavDatasetLoad(audio_names_train, scores_train)\n",
    "loader_train = DataLoader(dataset_train, batch_size=1, shuffle=True, collate_fn=custom_wav_collate_fn)\n",
    "\n",
    "dataset_test = VCC2018WavDatasetLoad(audio_names_test, scores_test)\n",
    "loader_test = DataLoader(dataset_test, batch_size=1, shuffle=True, collate_fn=custom_wav_collate_fn)"
   ]
  },
  {
   "cell_type": "code",
   "execution_count": null,
   "id": "43d7acf4",
   "metadata": {},
   "outputs": [],
   "source": [
    "for data in dataset_train:\n",
    "    print(data['data'].shape)\n",
    "    output = model(data['data'].to(device))\n",
    "    print(output.shape)\n",
    "    break"
   ]
  },
  {
   "cell_type": "code",
   "execution_count": null,
   "id": "c2858b63",
   "metadata": {},
   "outputs": [],
   "source": [
    "optimizer = torch.optim.Adam(model.parameters(), lr=1e-3)\n",
    "criterion =  nn.MSELoss()\n",
    "\n",
    "lambda2 = lambda epoch: epoch * 0.95\n",
    "scheduler = torch.optim.lr_scheduler.LambdaLR(optimizer,  lr_lambda=[lambda2])\n",
    "\n",
    "train_losses, val_losses = [], []\n",
    "train_accuracies, val_accuracies = [], []\n",
    "train_f1s, val_f1s = [], []\n",
    "\n",
    "best_valid_loss = float('inf')"
   ]
  },
  {
   "cell_type": "code",
   "execution_count": null,
   "id": "1d150aae",
   "metadata": {},
   "outputs": [],
   "source": [
    "import time\n",
    "\n",
    "N_EPOCHS = 10\n",
    "\n",
    "for epoch in range(N_EPOCHS):\n",
    "    start_time = time.time()\n",
    "    train_loss = train(model, loader_train, optimizer, criterion, scheduler, epoch)\n",
    "    val_loss = evaluate(model, loader_test, criterion, epoch)   \n",
    "    end_time = time.time()\n",
    "\n",
    "    train_losses.append(train_loss)\n",
    "    val_losses.append(val_loss)\n",
    "\n",
    "    epoch_mins, epoch_secs = epoch_time(start_time, end_time)\n",
    "    torch.save(model.state_dict(), 'best-val-model.pt')\n",
    "\n",
    "    print(f'Epoch: {epoch+1:02} | Time: {epoch_mins} m {epoch_secs} s')\n",
    "    print(f'\\tTrain Loss: {train_loss}')\n",
    "    print(f'\\t Val. Loss: {val_loss}')\n"
   ]
  },
  {
   "cell_type": "markdown",
   "id": "e624f27c",
   "metadata": {},
   "source": [
    "# Extract Embeddings"
   ]
  },
  {
   "cell_type": "code",
   "execution_count": 9,
   "id": "b8abc5b8",
   "metadata": {},
   "outputs": [],
   "source": [
    "import torch, torchaudio"
   ]
  },
  {
   "cell_type": "code",
   "execution_count": 10,
   "id": "2a4b1d80",
   "metadata": {},
   "outputs": [],
   "source": [
    "device = torch.device('cuda' if torch.cuda.is_available() else 'cpu')\n",
    "cuda = torch.cuda.is_available()\n"
   ]
  },
  {
   "cell_type": "code",
   "execution_count": 11,
   "id": "b2343010",
   "metadata": {},
   "outputs": [
    {
     "name": "stderr",
     "output_type": "stream",
     "text": [
      "Some weights of the model checkpoint at facebook/wav2vec2-base were not used when initializing Wav2Vec2Model: ['project_q.weight', 'project_hid.weight', 'project_hid.bias', 'quantizer.weight_proj.weight', 'quantizer.codevectors', 'project_q.bias', 'quantizer.weight_proj.bias']\n",
      "- This IS expected if you are initializing Wav2Vec2Model from the checkpoint of a model trained on another task or with another architecture (e.g. initializing a BertForSequenceClassification model from a BertForPreTraining model).\n",
      "- This IS NOT expected if you are initializing Wav2Vec2Model from the checkpoint of a model that you expect to be exactly identical (initializing a BertForSequenceClassification model from a BertForSequenceClassification model).\n"
     ]
    }
   ],
   "source": [
    "from transformers import Wav2Vec2Model, Wav2Vec2Processor\n",
    "\n",
    "model = Wav2Vec2Model.from_pretrained(\"facebook/wav2vec2-base\").feature_extractor\n",
    "processor = Wav2Vec2Processor.from_pretrained(\"facebook/wav2vec2-base\")"
   ]
  },
  {
   "cell_type": "code",
   "execution_count": null,
   "id": "ea26e0ec",
   "metadata": {},
   "outputs": [],
   "source": [
    "filepath = \"/home/fred/Projetos/DATASETS/MOS/BRSPEECH_MOS_DATASET_old/wavs/2959_2564_000001.wav\"\n",
    "\n",
    "audio_data, sr = torchaudio.load(filepath)"
   ]
  },
  {
   "cell_type": "code",
   "execution_count": null,
   "id": "362feea3",
   "metadata": {},
   "outputs": [],
   "source": [
    "output = model(audio_data)"
   ]
  },
  {
   "cell_type": "code",
   "execution_count": null,
   "id": "166b40cf",
   "metadata": {},
   "outputs": [],
   "source": [
    "output.shape"
   ]
  },
  {
   "cell_type": "code",
   "execution_count": 12,
   "id": "8ebcf46c",
   "metadata": {},
   "outputs": [
    {
     "name": "stderr",
     "output_type": "stream",
     "text": [
      "100%|███████████████████████████████████████████████████████████████████████████████████████████████████████████████████| 20580/20580 [15:53<00:00, 21.59it/s]\n"
     ]
    }
   ],
   "source": [
    "from tqdm import tqdm\n",
    "import os\n",
    "\n",
    "metadata_filepath = '/home/fred/Projetos/DATASETS/MOS/VCC2018_MOS_preprocessed/mos_list.txt'\n",
    "wavs_filepath = '/home/fred/Projetos/DATASETS/MOS/VCC2018_MOS_preprocessed/wav'\n",
    "with open(metadata_filepath, encoding=\"utf-8\") as f:\n",
    "  content_file = f.readlines()\n",
    "\n",
    "output_dir = \"./VCC2018_wav2vec_embeddings\"\n",
    "os.makedirs(output_dir, exist_ok=True)\n",
    "\n",
    "for line in tqdm(content_file):\n",
    "    #filepath, mos, condition, database = line.split(',')\n",
    "    filepath, mos = line.split(',')\n",
    "    filename = os.path.basename(filepath)\n",
    "    filepath = os.path.join(wavs_filepath, filepath)\n",
    "    if not os.path.exists(filepath):\n",
    "      continue\n",
    "    audio_data, sr = torchaudio.load(filepath)\n",
    "    audio_data = audio_data.to(device).squeeze()\n",
    "\n",
    "    audio_data = processor(audio_data, return_tensors=\"pt\", padding=True, sampling_rate=16000).input_values\n",
    "\n",
    "    # Extract Embedding    \n",
    "    file_embedding = model(audio_data)#['last_hidden_state']\n",
    "    \n",
    "    # Saving embedding\n",
    "    output_filename = filename.split(\".\")[0] + \".pt\"\n",
    "    output_filepath = os.path.join(output_dir, output_filename)\n",
    "\n",
    "    torch.save(file_embedding, output_filepath)  "
   ]
  },
  {
   "cell_type": "code",
   "execution_count": 14,
   "id": "b1cfdfe9",
   "metadata": {},
   "outputs": [],
   "source": [
    "model = model.to(device)"
   ]
  },
  {
   "cell_type": "markdown",
   "id": "d99c0c43",
   "metadata": {},
   "source": [
    "# Extract Embeddings from BRSpeech"
   ]
  },
  {
   "cell_type": "code",
   "execution_count": 16,
   "id": "f979a0ba",
   "metadata": {},
   "outputs": [
    {
     "name": "stderr",
     "output_type": "stream",
     "text": [
      "100%|████████████████████████████████████████████████████████████████████████████████████████████████████████████████████| 2428/2428 [00:23<00:00, 104.29it/s]\n"
     ]
    }
   ],
   "source": [
    "metadata_filepath = '/home/fred/Projetos/DATASETS/MOS/BRSPEECH_MOS_DATASET/metadata.csv'\n",
    "wavs_filepath = \"/home/fred/Projetos/DATASETS/MOS/BRSPEECH_MOS_DATASET/\"\n",
    "with open(metadata_filepath, encoding=\"utf-8\") as f:\n",
    "  content_file = f.readlines()\n",
    "\n",
    "output_dir = \"./brspeech_mos_wav2vec_embeddings\"\n",
    "\n",
    "for line in tqdm(content_file):\n",
    "    filepath, score, condition, database = line.split(\",\")\n",
    "    filename = os.path.basename(filepath)\n",
    "    complete_filepath = os.path.join(wavs_filepath, filepath)\n",
    "    if not os.path.exists(complete_filepath):\n",
    "      continue\n",
    "    audio_data, sr = torchaudio.load(complete_filepath)\n",
    "    audio_data = audio_data.to(device)\n",
    "    # Extract Embedding    \n",
    "    file_embedding = model(audio_data)#['last_hidden_state']\n",
    "    \n",
    "    # Saving embedding\n",
    "    output_filename = filename.split(\".\")[0] + \".pt\"\n",
    "    output_filepath = os.path.join(output_dir, os.path.dirname(filepath), output_filename)\n",
    "\n",
    "    os.makedirs(os.path.dirname(output_filepath), exist_ok=True)\n",
    "    torch.save(file_embedding, output_filepath)  "
   ]
  },
  {
   "cell_type": "code",
   "execution_count": null,
   "id": "6de762a2",
   "metadata": {},
   "outputs": [],
   "source": []
  }
 ],
 "metadata": {
  "kernelspec": {
   "display_name": "dl",
   "language": "python",
   "name": "dl"
  },
  "language_info": {
   "codemirror_mode": {
    "name": "ipython",
    "version": 3
   },
   "file_extension": ".py",
   "mimetype": "text/x-python",
   "name": "python",
   "nbconvert_exporter": "python",
   "pygments_lexer": "ipython3",
   "version": "3.8.13"
  }
 },
 "nbformat": 4,
 "nbformat_minor": 5
}
